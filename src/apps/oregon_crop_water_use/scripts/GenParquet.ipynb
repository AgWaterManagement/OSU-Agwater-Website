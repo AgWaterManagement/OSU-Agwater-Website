{
 "cells": [
  {
   "cell_type": "markdown",
   "metadata": {},
   "source": [
    "## This notebook reads the opentET dataset and generates a corresponding parquet file"
   ]
  },
  {
   "cell_type": "code",
   "execution_count": 11,
   "metadata": {},
   "outputs": [
    {
     "name": "stdout",
     "output_type": "stream",
     "text": [
      "Reading d:/Data/Spatial/OregonCropWaterUse/or_openet_huc8_irrigated_all.shp\n",
      "Writing d:/Data/Spatial/OregonCropWaterUse/or_openet_huc8_irrigated_all.parquet\n",
      "Writing d:/Data/Spatial/OregonCropWaterUse/or_openet_huc8_irrigated_all.geojson\n",
      "['ET_v', 'ETc_v', 'ETo_v', 'PPT_v', 'EFF_v', 'NIWR_v', 'CUirr_v', 'AW_v', 'ET_r', 'ETc_r', 'ETo_r', 'PPT_r', 'EFF_r', 'NIWR_r', 'CUirr_r', 'AW_r', 'areaacres', 'areasqkm']\n"
     ]
    },
    {
     "name": "stderr",
     "output_type": "stream",
     "text": [
      "c:\\Program Files\\Python312\\Lib\\site-packages\\geopandas\\geodataframe.py:1525: SettingWithCopyWarning: \n",
      "A value is trying to be set on a copy of a slice from a DataFrame.\n",
      "Try using .loc[row_indexer,col_indexer] = value instead\n",
      "\n",
      "See the caveats in the documentation: https://pandas.pydata.org/pandas-docs/stable/user_guide/indexing.html#returning-a-view-versus-a-copy\n",
      "  super().__setitem__(key, value)\n"
     ]
    },
    {
     "name": "stdout",
     "output_type": "stream",
     "text": [
      "Writing d:/Data/Spatial/OregonCropWaterUse/or_openet_huc8_irrigated_geom.geojson\n"
     ]
    },
    {
     "name": "stderr",
     "output_type": "stream",
     "text": [
      "c:\\Program Files\\Python312\\Lib\\site-packages\\geopandas\\geodataframe.py:1525: SettingWithCopyWarning: \n",
      "A value is trying to be set on a copy of a slice from a DataFrame.\n",
      "Try using .loc[row_indexer,col_indexer] = value instead\n",
      "\n",
      "See the caveats in the documentation: https://pandas.pydata.org/pandas-docs/stable/user_guide/indexing.html#returning-a-view-versus-a-copy\n",
      "  super().__setitem__(key, value)\n"
     ]
    },
    {
     "name": "stdout",
     "output_type": "stream",
     "text": [
      "Writing ET_v json\n",
      "Writing ETc_v json\n",
      "Writing ETo_v json\n",
      "Writing PPT_v json\n",
      "Writing EFF_v json\n",
      "Writing NIWR_v json\n",
      "Writing CUirr_v json\n",
      "Writing AW_v json\n",
      "Writing ET_r json\n",
      "Writing ETc_r json\n",
      "Writing ETo_r json\n",
      "Writing PPT_r json\n",
      "Writing EFF_r json\n",
      "Writing NIWR_r json\n",
      "Writing CUirr_r json\n",
      "Writing AW_r json\n",
      "Writing areaacres json\n",
      "Writing areasqkm json\n",
      "all done\n"
     ]
    }
   ],
   "source": [
    "from simpledbf import Dbf5\n",
    "import geopandas as gpd\n",
    "import numpy as np\n",
    "\n",
    "# make a centroid-based geojson output for each field in the list\n",
    "fieldOptions = {\n",
    "        #'HUC8_code': 'HUC - 8 or HUC - 12 number',\n",
    "        #'HUC12_name': 'HUC - 8 or HUC - 12 name',\n",
    "        #'ACRES_[YEAR]': 'Total irrigated acreage for the given year',\n",
    "        #'ET_v_[YEAR]': 'Actual ET volume for the given year in acre - feet',\n",
    "        #'ETc_v_[YEAR]': 'Potential crop ET volume for the given year in acre - feet',\n",
    "        #'ETo_v_[YEAR]': 'Bias - corrected gridMET grass reference ET volume for the given year in acre - feet',\n",
    "        #'PPT_v_[YEAR]': 'Total gridMET precipitation volume for the given year in acre - feet',\n",
    "        #'EFF_v_[YEAR]': 'Adjusted effective precipitation(Prz) volume for the given year in acre - feet',\n",
    "        #'NIWR_v_[YEAR]': 'Net irrigation water requirement volume for the given year in acre - feet',\n",
    "        #'CU_v_[YEAR]': 'Adjusted irrigation consumptive use(actual ET less adjusted Prz) volume for the given year in acre - feet',\n",
    "        #'AW_v_[YEAR]': 'Applied water volume for the given year in acre - feet',\n",
    "        #'ET_r_[YEAR]': 'Actual ET area - weighted average rate for the given year in feet',\n",
    "        #'ETc_r_[YEAR]': 'Potential crop ET area - weighted average rate for the given year in feet',\n",
    "        #'ETo_r_[YEAR]': 'Bias - corrected gridMET grass reference ET area - weighted average rate for the given year in feet',\n",
    "        #'PPT_r_[YEAR]': 'Total gridMET precipitation area - weighted average rate for the given year in feet',\n",
    "        #'EFF_r_[YEAR]': 'Adjusted effective precipitation(Prz) area - weighted average rate for the given year in feet',\n",
    "        #'NIWR_r_[YEAR]': 'Net irrigation water requirement area - weighted average rate for the given year in feet',\n",
    "        #'CU_r_[YEAR]': 'Adjusted irrigation consumptive use(actual ET less adjusted Prz) area - weighted average rate for the given year in feet',\n",
    "        #'AW_r_[YEAR]': 'Applied water area - weighted average rate for the given year in acre - feet',\n",
    "        'ET_v': 'Long - term average of the individual annual actual ET volumes in acre - feet',\n",
    "        'ETc_v': 'Long - term average of the individual annual potential crop ET volumes in acre - feet',\n",
    "        'ETo_v': 'Long - term average of the individual annual bias - corrected gridMET grass reference ET volumes in acre - feet',\n",
    "        'PPT_v': 'Long - term average of the individual annual gridMET precipitation volumes in acre - feet',\n",
    "        'EFF_v': 'Long - term average of the individual annual adjusted Prz volumes in acre - feet',\n",
    "        'NIWR_v': 'Long - term average of the individual annual net irrigation water requirement volumes in acre - feet',\n",
    "        'CUirr_v': 'Long - term average of the individual annual adjusted irrigation consumptive use volumes in acre - feet',\n",
    "        'AW_v': 'Long - term average of the individual annual applied water volumes in acre - feet',\n",
    "        'ET_r': 'Long - term average of the individual annual actual ET area - weighted average rates in feet',\n",
    "        'ETc_r': 'Long - term average of the individual annual potential crop ET area - weighted average rates in feet',\n",
    "        'ETo_r': 'Long - term average of the individual annual bias - corrected gridMET grass reference ET area - weighted average rates in feet',\n",
    "        'PPT_r': 'Long - term average of the individual annual gridMET precipitation area - weighted average rates in feet',\n",
    "        'EFF_r': 'Long - term average of the individual annual adjusted Prz area - weighted average rates in feet',\n",
    "        'NIWR_r': 'Long - term average of the individual annual net irrigation water requirement area - weighted average rates in feet',\n",
    "        'CUirr_r': 'Long - term average of the individual annual adjusted irrigation consumptive use area - weighted average rates in feet',\n",
    "        'AW_r': 'Long - term average of the individual annual applied water area - weighted average rates in feet',\n",
    "        'areaacres': 'HUC - 8 or HUC - 12 geometry area in acres',\n",
    "        'areasqkm': 'HUC - 8 or HUC - 12 geometry area in square kilometers'\n",
    "    }\n",
    "\n",
    "src = 'd:/Data/Spatial/OregonCropWaterUse/or_openet_huc8_irrigated_all.shp'\n",
    "out0 = 'd:/Data/Spatial/OregonCropWaterUse/or_openet_huc8_irrigated_all.parquet'\n",
    "out1 = 'd:/Data/Spatial/OregonCropWaterUse/or_openet_huc8_irrigated_all.geojson'\n",
    "out2 = 'd:/Data/Spatial/OregonCropWaterUse/or_openet_huc8_irrigated_geom.geojson'\n",
    "\n",
    "print(f\"Reading {src}\")\n",
    "gdf = gpd.read_file(src)\n",
    "\n",
    "print(f\"Writing {out0}\")\n",
    "#df = gdf.drop('geometry', axis=1)\n",
    "#df.to_parquet(out0)\n",
    "\n",
    "\n",
    "print(f\"Writing {out1}\")\n",
    "fields = [f for f in fieldOptions]\n",
    "print(fields)\n",
    "\n",
    "# concatenate lists\n",
    "fields = ['geometry'] + fields\n",
    "_gdf = gdf[fields]\n",
    "_gdf['Index'] = np.arange(0,gdf.shape[0], dtype=np.int32)\n",
    "_gdf.to_file(out1, driver=\"GeoJSON\")\n",
    "\n",
    "\n",
    "print(f\"Writing {out2}\")\n",
    "_gdf = gdf[['geometry']]\n",
    "_gdf['Index'] = np.arange(0,gdf.shape[0], dtype=np.int32)\n",
    "_gdf.to_file(out2, driver=\"GeoJSON\")\n",
    "\n",
    "\n",
    "for field in fieldOptions:\n",
    "\n",
    "\n",
    "    _gdf = gdf[['geometry', field]]\n",
    "    path = f'd:/Data/Spatial/OregonCropWaterUse/or_openet_huc8_irrigated_all_{field}.geojson'\n",
    "    _gdf.to_file(path, driver=\"GeoJSON\")\n",
    "\n",
    "\n",
    "    print(f\"Writing {field} json\")\n",
    "    values = gdf[field].values\n",
    "    # write numpy array to disk as a JSON object\n",
    "    with open(f'd:/Data/Spatial/OregonCropWaterUse/or_openet_huc8_irrigated_all_{field}.json', 'w') as f:\n",
    "        f.write('[')\n",
    "        for i in range(len(values)):\n",
    "            if i > 0:\n",
    "                f.write(',')\n",
    "            f.write(f'{float(values[i]):.4f}')\n",
    "        f.write(']')\n",
    "\n",
    "print('all done')\n"
   ]
  }
 ],
 "metadata": {
  "kernelspec": {
   "display_name": "Python 3",
   "language": "python",
   "name": "python3"
  },
  "language_info": {
   "codemirror_mode": {
    "name": "ipython",
    "version": 3
   },
   "file_extension": ".py",
   "mimetype": "text/x-python",
   "name": "python",
   "nbconvert_exporter": "python",
   "pygments_lexer": "ipython3",
   "version": "3.12.7"
  }
 },
 "nbformat": 4,
 "nbformat_minor": 2
}
